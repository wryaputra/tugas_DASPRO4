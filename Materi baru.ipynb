{
 "cells": [
  {
   "cell_type": "code",
   "execution_count": null,
   "id": "bb548dbc-c476-4833-8874-4a0c16312dd4",
   "metadata": {},
   "outputs": [],
   "source": [
    "##### tiket1 = int(input(\"Masukan umur tiket 1:\"))\n",
    "tiket2 = int(input(\"Masukan umur tiket 2:\"))\n",
    "tiket3 = int(input(\"Masukan umur tiket 3:\"))\n",
    "totalBiaya = 0\n",
    "\n",
    "if tiket1 >= 1 :\n",
    "    if tiket1 <= 12:\n",
    "        print(\"tiket 1 = 10.000\")\n",
    "        totalBiaya = totalBiaya + 10000\n",
    "    elif tiket2 <= 17:\n",
    "        print(\"tiket 1 = 15.000\")\n",
    "        totalBiaya = totalBiaya + 15000\n",
    "    elif tiket3 <= 59:\n",
    "        print(\"tiket 1 = 20.000\")\n",
    "        totalBiaya = totalBiaya + 25000\n",
    "    else:\n",
    "        print(\"tiket 2 = Gratis\")\n",
    "        totalBiaya = totalBiaya + 0\n",
    "else:\n",
    "    print(\"Dalam Perencanaan Tuhan\"\n",
    "\n",
    "totalBiaya + 10000\n",
    "      eliif tiket2 >= 1:\n",
    "      if tiket2 <= 12:\n",
    "          print(\"tiket 2 = 10.000\")\n",
    "          totalBiaya = tf tiket2 <= 17:\n",
    "          print(\"tiket 2 = 15.000\")\n",
    "          totalBiaya = totalBiaya + 15000  \n",
    "      elif tiket2 <= 59:\n",
    "          print(\"tiket 2 = 25.000\")\n",
    "          totalBiaya = totalBiaya + 25000 \n",
    "     else:\n",
    "          print(\"tiket 2 = Gratis\")\n",
    "          totalBiaya = totalBiaya + 0 \n",
    "else:\n",
    "    print(\"Dalam Perencanaan Tuhan\")\n",
    "\n",
    "if tiket3 >= 1:\n",
    "      if tiket3 <= 12:\n",
    "          print(\"tiket 3 = 10.000\")\n",
    "          totalBiaya = totalBiaya + 10000\n",
    "      elif tiket2 <= 17:\n",
    "          print(\"tiket 3 = 15.000\")\n",
    "          totalBiaya = totalBiaya + 15000  \n",
    "      elif tiket2 <= 59:\n",
    "          print(\"tiket 3 = 25.000\")\n",
    "          totalBiaya = totalBiaya + 25000 \n",
    "     else:\n",
    "          print(\"tiket 3 = Gratis\")\n",
    "          totalBiaya = totalBiaya + 0 \n",
    "\n",
    "else:\n",
    "    print(\"Dalama Perencanaan Tuhan\")\n",
    "\n",
    "print(f\"Jadi totalBiaya yang diperlukan untuk masuk adalah: (totalBiaya)\")"
   ]
  },
  {
   "cell_type": "code",
   "execution_count": null,
   "id": "8bc3b252-8540-4272-8edb-890d58272917",
   "metadata": {},
   "outputs": [],
   "source": [
    "if tiket3 >= 1:\n",
    "      if tiket3 <= 12:\n",
    "          print(\"tiket 3 = 10.000\")\n",
    "          totalBiaya = totalBiaya + 10000\n",
    "      elif tiket2 <= 17:\n",
    "          print(\"tiket 3 = 15.000\")\n",
    "          totalBiaya = totalBiaya + 15000  \n",
    "      elif tiket2 <= 59:\n",
    "          print(\"tiket 3 = 25.000\")\n",
    "          totalBiaya = totalBiaya + 25000 \n",
    "     else:\n",
    "          print(\"tiket 3 = Gratis\")\n",
    "          totalBiaya = totalBiaya + 0 \n",
    "\n",
    "else:\n",
    "    print(\"Dalama Perencanaan Tuhan\")\n",
    "\n",
    "print(f\"Jadi totalBiaya yang diperlukan untuk masuk adalah: (totalBiaya)\")"
   ]
  },
  {
   "cell_type": "code",
   "execution_count": null,
   "id": "f9f65e36-98ae-4a09-b075-9a1605c7a22d",
   "metadata": {},
   "outputs": [],
   "source": [
    "totalBiaya + 10000\n",
    "      eliif tiket2 >= 1:\n",
    "      if tiket2 <= 12:\n",
    "          print(\"tiket 2 = 10.000\")\n",
    "          totalBiaya = tf tiket2 <= 17:\n",
    "          print(\"tiket 2 = 15.000\")\n",
    "          totalBiaya = totalBiaya + 15000  \n",
    "      elif tiket2 <= 59:\n",
    "          print(\"tiket 2 = 25.000\")\n",
    "          totalBiaya = totalBiaya + 25000 \n",
    "     else:\n",
    "          print(\"tiket 2 = Gratis\")\n",
    "          totalBiaya = totalBiaya + 0 \n",
    "else:\n",
    "    print(\"Dalam Perencanaan Tuhan\")"
   ]
  },
  {
   "cell_type": "code",
   "execution_count": null,
   "id": "9db946cf-96c7-49f6-a94f-63d6812886a7",
   "metadata": {},
   "outputs": [],
   "source": [
    "##### tiket1 = int(input(\"Masukan umur tiket 1:\"))\n",
    "tiket2 = int(input(\"Masukan umur tiket 2:\"))\n",
    "tiket3 = int(input(\"Masukan umur tiket 3:\"))\n",
    "totalBiaya = 0\n",
    "\n",
    "if tiket1 >= 1 :\n",
    "    if tiket1 <= 12:\n",
    "        print(\"tiket 1 = 10.000\")\n",
    "        totalBiaya = totalBiaya + 10000\n",
    "    elif tiket2 <= 17:\n",
    "        print(\"tiket 1 = 15.000\")\n",
    "        totalBiaya = totalBiaya + 15000\n",
    "    elif tiket3 <= 59:\n",
    "        print(\"tiket 1 = 20.000\")\n",
    "        totalBiaya = totalBiaya + 25000\n",
    "    else:\n",
    "        print(\"tiket 2 = Gratis\")\n",
    "        totalBiaya = totalBiaya + 0\n",
    "else:\n",
    "    print(\"Dalam Perencanaan Tuhan\""
   ]
  },
  {
   "cell_type": "code",
   "execution_count": 8,
   "id": "a0bc5b86-d53a-43be-b500-01b517ccf926",
   "metadata": {},
   "outputs": [
    {
     "name": "stdin",
     "output_type": "stream",
     "text": [
      "Jam Masuk:  5\n",
      "Jam Keluar:  9\n"
     ]
    },
    {
     "name": "stdout",
     "output_type": "stream",
     "text": [
      "Tarif motor:2000\n",
      "Lama parkir 4 jam\n",
      "Total Tarif Parkir: 8000\n"
     ]
    }
   ],
   "source": [
    "## jenisKendaraan = input(\"Masukan motor/mobil: \")\n",
    "jamMasuk = int(input(\"Jam Masuk: \"))\n",
    "jamKeluar = int(input(\"Jam Keluar: \"))\n",
    "\n",
    "tarifPerjam = 0\n",
    "if jenisKendaraan == \"motor\":\n",
    "    tarifPerjam = 2000\n",
    "elif jenisKendaraan == \"mobil\":\n",
    "    tarifPerjam = 5000\n",
    "else:\n",
    "    print(\"tidak menerima selain mobil atau motor\")\n",
    "\n",
    "if jamMasuk >= jamKeluar:\n",
    "    print(\"Input Jam Masuk/Jam Keluar Salah!\")\n",
    "\n",
    "else:\n",
    "    totalTarif = (jamKeluar - jamMasuk)*tarifPerjam\n",
    "\n",
    "print(f\"Tarif {jenisKendaraan}:{tarifPerjam}\")\n",
    "print(f\"Lama parkir {jamKeluar-jamMasuk} jam\")\n",
    "print(f\"Total Tarif Parkir: {totalTarif}\")"
   ]
  },
  {
   "cell_type": "code",
   "execution_count": null,
   "id": "17d01f67-0cca-4d8e-a965-8713057d6230",
   "metadata": {},
   "outputs": [],
   "source": []
  }
 ],
 "metadata": {
  "kernelspec": {
   "display_name": "anaconda-panel-2023.05-py310",
   "language": "python",
   "name": "conda-env-anaconda-panel-2023.05-py310-py"
  },
  "language_info": {
   "codemirror_mode": {
    "name": "ipython",
    "version": 3
   },
   "file_extension": ".py",
   "mimetype": "text/x-python",
   "name": "python",
   "nbconvert_exporter": "python",
   "pygments_lexer": "ipython3",
   "version": "3.11.5"
  }
 },
 "nbformat": 4,
 "nbformat_minor": 5
}
