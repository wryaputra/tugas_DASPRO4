{
 "cells": [
  {
   "cell_type": "code",
   "execution_count": null,
   "id": "c0a7f1ab-c13f-4cdc-9314-cbf3896e4c03",
   "metadata": {},
   "outputs": [],
   "source": [
    "BB"
   ]
  },
  {
   "cell_type": "code",
   "execution_count": null,
   "id": "673668f5-1887-4d0f-a5f5-2fb21f9731f6",
   "metadata": {},
   "outputs": [],
   "source": [
    "x = input(\"Apel milik Budi:\")\n",
    "y = input(\"Apel milik Teman:\")\n",
    "z = input(\"Apel tambahan Budi:\")\n",
    "x = int(x)\n",
    "y = int(y)\n",
    "z = int(z)\n",
    "hasilbagi = x / y\n",
    "tambahan = x + z\n",
    "print(\"Hasil Bagi\",x,\"/\",y,\"=\",hasilbagi)\n",
    "print(\"Hasil tambahan\",x,\"+\",z,\"=\",tambahan)"
   ]
  },
  {
   "cell_type": "code",
   "execution_count": null,
   "id": "c45f282a-2eb4-4995-934c-51752ce833ed",
   "metadata": {},
   "outputs": [],
   "source": [
    "Operator Perbandingan"
   ]
  },
  {
   "cell_type": "code",
   "execution_count": null,
   "id": "4fd792b9-2490-4e53-957c-c424dfd8f0da",
   "metadata": {},
   "outputs": [],
   "source": [
    "Siti = 160\n",
    "Andi = 165\n",
    "\n",
    "print(Siti,\"=\",Andi,Siti==Andi)\n",
    "print(Siti,\"!=\",Andi,Siti!=Andi)\n",
    "print(Siti,\">\",Andi,Siti>Andi)\n",
    "print(Siti,\"<\",Andi,Siti<Andi)\n",
    "print(Siti,\">=\",Andi,Siti>=Andi)\n",
    "print(Siti,\"<=\",Andi,Siti<=Andi)"
   ]
  },
  {
   "cell_type": "code",
   "execution_count": null,
   "id": "121e571b-6af8-4dc2-8d27-04468ff8cee6",
   "metadata": {},
   "outputs": [],
   "source": [
    "Operator Logika"
   ]
  },
  {
   "cell_type": "code",
   "execution_count": null,
   "id": "0f064887-d47c-4b0c-a35d-fbc344f1436d",
   "metadata": {},
   "outputs": [],
   "source": [
    "Cuaca_cerah = input(\"Apakah cuaca cerah? (True/False):\")\n",
    "PR_selesai = input(\"Apakah PR selesai? (True/False):\") \n",
    "if Cuaca_cerah == \"True\" and PR_selesai == \"True\":\n",
    "    budibisabermain = \"boleh\"\n",
    "else:\n",
    "    budibisabermain = \"jangan\"\n",
    "print(\"Apakah Budi bisa bermain? :\",budibisabermain)"
   ]
  },
  {
   "cell_type": "code",
   "execution_count": null,
   "id": "5dbd5635-b810-4af9-8e77-f933bb8c528b",
   "metadata": {},
   "outputs": [],
   "source": [
    "Operator Bitwise"
   ]
  },
  {
   "cell_type": "code",
   "execution_count": null,
   "id": "68aeb5c7-be98-4ac2-9831-a86ca80e76c3",
   "metadata": {},
   "outputs": [],
   "source": [
    "num_1 = 6\n",
    "num_2 = 3\n",
    "\n",
    "print(num_1 & num_2)\n",
    "print(num_1 | num_2)\n",
    "print(num_1 ^ num_2)"
   ]
  },
  {
   "cell_type": "code",
   "execution_count": null,
   "id": "31ef2d26-86d9-4b1c-b87c-2cc82bb6a1e5",
   "metadata": {},
   "outputs": [],
   "source": [
    "Operator Penugansan\n"
   ]
  },
  {
   "cell_type": "code",
   "execution_count": null,
   "id": "b9f439d2-7788-4fde-beec-b62ef69ffe78",
   "metadata": {},
   "outputs": [],
   "source": [
    "UangSaldo = 50000\n",
    "\n",
    "print(\"Seorang siswa memiliki uang saldo sebanyak\",UangSaldo)\n",
    "UangSaldo += 20000\n",
    "print(\"Lalu mengisi uang saldo sebanyak Rp.20000, total uang saldp menjadi\",UangSaldo)\n",
    "UangSaldo -= 30000\n",
    "print(\"Lalu membeli paket data swharga Rp.30000, total uang saldo menjadi\",UangSaldo)"
   ]
  },
  {
   "cell_type": "code",
   "execution_count": null,
   "id": "0d886dc0-2c7e-462d-9275-348eb819eb29",
   "metadata": {},
   "outputs": [],
   "source": [
    "Operator keanggotaaan\n"
   ]
  },
  {
   "cell_type": "code",
   "execution_count": null,
   "id": "5159321a-0bcd-4f77-b2dc-28b96b9d5ae5",
   "metadata": {},
   "outputs": [],
   "source": [
    "peserta_lomba = [\"Andi\", \"Budi\", \"Citra\", \"Dewi\" ]\n",
    "temukan = \"Eka\"\n",
    "print(temukan in peserta_lomba)\n",
    "\n",
    "kalimat = \"Saya suka belajar Python\"\n",
    "temukan = \"Python\"\n",
    "print(temukan in kalimat)"
   ]
  },
  {
   "cell_type": "code",
   "execution_count": null,
   "id": "286657c9-0068-4ced-8c44-48e424b7150f",
   "metadata": {},
   "outputs": [],
   "source": [
    "Operator Identitas"
   ]
  },
  {
   "cell_type": "code",
   "execution_count": null,
   "id": "5f9e600a-1624-4655-9c02-653a66769291",
   "metadata": {},
   "outputs": [],
   "source": [
    "x = 5\n",
    "y = 5\n",
    "print(\"id variabel x adalah\",id(x))\n",
    "print(\"id variabel y adalah\",id(y))\n",
    "print(\"Apakah x sama dengan y?\",x is y)\n",
    "\n",
    "list_1 = [\"2\", \"3\", \"5\", \"7\", \"9\"]\n",
    "list_2 = [\"2\", \"3\", \"5\", \"7\", \"9\"]\n",
    "hasil = list_1 is list_2\n",
    "print(\"Apakah kedua list tersebut mengacu ke objek yang sama?\",hasil)"
   ]
  },
  {
   "cell_type": "code",
   "execution_count": null,
   "id": "c5cea7a3-421d-47d0-8738-6b8cd51bd250",
   "metadata": {},
   "outputs": [],
   "source": [
    "Operator Ternary"
   ]
  },
  {
   "cell_type": "code",
   "execution_count": null,
   "id": "fd979ac6-7b92-4b5b-aa84-3a1eef7b4710",
   "metadata": {},
   "outputs": [],
   "source": [
    "x = int(input(\"Nilai x:\"))\n",
    "y = 100\n",
    "islebihtinggi = \"Nilai x lebih besar dari 100\" if x > y else \"Nilai x lebih kecil dari 100\"\n",
    "print(islebihtinggi)"
   ]
  },
  {
   "cell_type": "code",
   "execution_count": null,
   "id": "8a8bea05-9cde-4673-ab86-e2d21021805b",
   "metadata": {},
   "outputs": [],
   "source": [
    "x = int(input(\"Nilai matkul:\"))\n",
    "y = 70\n",
    "islulus = \"Lulus\" if x > y else \"Tidak Lulus\"\n",
    "print(islulus)"
   ]
  }
 ],
 "metadata": {
  "kernelspec": {
   "display_name": "anaconda-2024.02-py310",
   "language": "python",
   "name": "conda-env-anaconda-2024.02-py310-py"
  },
  "language_info": {
   "codemirror_mode": {
    "name": "ipython",
    "version": 3
   },
   "file_extension": ".py",
   "mimetype": "text/x-python",
   "name": "python",
   "nbconvert_exporter": "python",
   "pygments_lexer": "ipython3",
   "version": "3.10.14"
  }
 },
 "nbformat": 4,
 "nbformat_minor": 5
}
